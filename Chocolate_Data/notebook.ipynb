{
  "cells": [
    {
      "metadata": {
        "_cell_guid": "35837b22-28b0-45fd-9371-92be5777710b",
        "_uuid": "3dd4860380bc4d66e6594ecc61c23584a3f5305e",
        "trusted": false,
        "collapsed": true
      },
      "cell_type": "code",
      "source": "# This Python 3 environment comes with many helpful analytics libraries installed\n# It is defined by the kaggle/python docker image: https://github.com/kaggle/docker-python\n# For example, here's several helpful packages to load in \n\nimport numpy as np\nimport os\nimport pandas as pd\nimport sys\nimport matplotlib.pyplot as plt\n%matplotlib inline\nimport seaborn as sns\nsns.set(color_codes=True)",
      "execution_count": null,
      "outputs": []
    },
    {
      "metadata": {
        "_cell_guid": "506e1e11-b091-4621-8192-1a7ba8714da2",
        "_uuid": "49700012eb28f9c1abd834e08b338ff9a5df07e0",
        "trusted": false,
        "collapsed": true
      },
      "cell_type": "code",
      "source": "df = pd.read_csv('flavors_of_cacao.csv')",
      "execution_count": null,
      "outputs": []
    },
    {
      "metadata": {
        "_cell_guid": "4a2f4eaa-16b7-444c-baed-58117d616565",
        "_uuid": "8b3a37378a501d54dc920b7f5ff3c689d87f3219",
        "trusted": false,
        "collapsed": true
      },
      "cell_type": "code",
      "source": "df.head()",
      "execution_count": null,
      "outputs": []
    },
    {
      "metadata": {
        "_cell_guid": "de889297-0cb3-42c1-80cd-5e929810f4bf",
        "_uuid": "6f7b037d5525183807c4303b13a1f68bdba41f5d",
        "trusted": false,
        "collapsed": true
      },
      "cell_type": "code",
      "source": "df.isnull().sum(axis=0)",
      "execution_count": null,
      "outputs": []
    },
    {
      "metadata": {
        "_cell_guid": "55e1b1d7-b3d2-441b-b545-0b72dfc4e603",
        "_uuid": "651d16631b1368a31639082d063fc2db4ac50c45",
        "trusted": false,
        "collapsed": true
      },
      "cell_type": "code",
      "source": "df.dtypes",
      "execution_count": null,
      "outputs": []
    },
    {
      "metadata": {
        "_cell_guid": "9ca8c865-a6b9-40b2-abf3-29bdc7a5e2fd",
        "_uuid": "fd295b5ecc5c47772fc7e1ba23c1eb6a42c3ca17"
      },
      "cell_type": "markdown",
      "source": "# Visualization"
    },
    {
      "metadata": {
        "_cell_guid": "3684e807-6952-438a-91eb-67ab1c23a515",
        "_uuid": "700946c464f80f2d86c9bfbc3a814c8c9fbdb76c",
        "trusted": false,
        "collapsed": true
      },
      "cell_type": "code",
      "source": "sns.distplot(df['REF'])",
      "execution_count": null,
      "outputs": []
    },
    {
      "metadata": {
        "_cell_guid": "2b5602fd-58be-4daf-8079-fc5b2a2ec0d0",
        "_uuid": "0a3dd5f6fde5028f12df1fb51f347d6b5d350dbe",
        "trusted": false,
        "collapsed": true
      },
      "cell_type": "code",
      "source": "sns.distplot(df['Review\\nDate'])",
      "execution_count": null,
      "outputs": []
    },
    {
      "metadata": {
        "_cell_guid": "ef4a7267-f426-4956-b195-91b6f253505c",
        "_uuid": "82dec71447a44acc2749835ddb635855cf57fbf0",
        "trusted": false,
        "collapsed": true
      },
      "cell_type": "code",
      "source": "sns.distplot(df['Rating'])",
      "execution_count": null,
      "outputs": []
    },
    {
      "metadata": {
        "_cell_guid": "fc35512a-85d4-48d7-b62b-a3e67ab53732",
        "_uuid": "916ea0adf9379f8f1f919524d46fdc53c02d5f06",
        "trusted": false,
        "collapsed": true
      },
      "cell_type": "code",
      "source": "#scatter plot \nvar = 'REF'\ndata = pd.concat([df['Rating'], df[var]], axis=1)\ndata.plot.scatter(x=var, y='Rating');",
      "execution_count": null,
      "outputs": []
    },
    {
      "metadata": {
        "_cell_guid": "12c8be6e-0fe5-41fd-bab8-04b07aa1b3f8",
        "_uuid": "3191190c4888fad5dd44389ed13b799ac94d3ac9",
        "trusted": false,
        "collapsed": true
      },
      "cell_type": "code",
      "source": "#scatter plot \nvar = 'Review\\nDate'\ndata = pd.concat([df['Rating'], df[var]], axis=1)\ndata.plot.scatter(x=var, y='Rating');",
      "execution_count": null,
      "outputs": []
    },
    {
      "metadata": {
        "_cell_guid": "85acc8fc-7236-4db5-afe4-10d46c0df0bd",
        "_uuid": "4b210db6c0bc6d06d053411a8c4992d606eb92c2",
        "trusted": false,
        "collapsed": true
      },
      "cell_type": "code",
      "source": "df['Company\\nLocation'].value_counts()",
      "execution_count": null,
      "outputs": []
    },
    {
      "metadata": {
        "_cell_guid": "27c43973-1d24-4c99-8621-4f5d91df973b",
        "_uuid": "e3a09f5c2728d35972ccea22aec94bf603959bfb",
        "trusted": false,
        "collapsed": true
      },
      "cell_type": "code",
      "source": "df['Company\\nLocation'].value_counts().head(10).plot.bar()",
      "execution_count": null,
      "outputs": []
    },
    {
      "metadata": {
        "_cell_guid": "92aa3d20-69f0-4ed2-beda-73e8c955994f",
        "_uuid": "98ba82aa870fd364b28963116c2fd02e928cc12d"
      },
      "cell_type": "markdown",
      "source": "Seems like U.S.A. consumes chocolate far more than any other country of the world."
    },
    {
      "metadata": {
        "_cell_guid": "433d40bf-b1ff-42ce-a44b-7c8da0643ade",
        "_uuid": "37de4b9f9f4c7df77f26422520a0a68b72a8268c",
        "trusted": false,
        "collapsed": true
      },
      "cell_type": "code",
      "source": "df['Cocoa\\nPercent'].value_counts()",
      "execution_count": null,
      "outputs": []
    },
    {
      "metadata": {
        "_cell_guid": "b2e0b99b-d43a-4068-8766-19c80f0e46da",
        "_uuid": "52f7e86c5eaa8d84a5cca04c244c4758f8b67c41",
        "trusted": false,
        "collapsed": true
      },
      "cell_type": "code",
      "source": "df['Cocoa\\nPercent'].value_counts().head(10).plot.bar()",
      "execution_count": null,
      "outputs": []
    },
    {
      "metadata": {
        "_cell_guid": "fd3ba764-bb0c-4448-a609-4e9363eff7c8",
        "_uuid": "89049fb73fad68b3b27d1d4fdb92c7ff70828d65"
      },
      "cell_type": "markdown",
      "source": "Most of the chocolates have 70% cocoa. Let's see which chocolate has highest cocoa."
    },
    {
      "metadata": {
        "_cell_guid": "c12890d9-d4d1-43a0-bc82-c84903234feb",
        "_uuid": "b1f4f708363e88f343940bb8e3d0175dcf98aae7",
        "trusted": false,
        "collapsed": true
      },
      "cell_type": "code",
      "source": "df[df['Cocoa\\nPercent'] == '100%']",
      "execution_count": null,
      "outputs": []
    },
    {
      "metadata": {
        "_cell_guid": "32d82223-5c25-48cd-aa42-e458aa8e9248",
        "_uuid": "a1ee93274818fba84ea0e8aa4abe60ae1a882eb3",
        "trusted": false,
        "collapsed": true
      },
      "cell_type": "code",
      "source": "df['Rating'].value_counts().sort_index().plot.bar()",
      "execution_count": null,
      "outputs": []
    },
    {
      "metadata": {
        "_cell_guid": "a6103a48-aa1c-4fa9-bcbd-903727b611a0",
        "_uuid": "214996c1d98c29ea4119800d2ef7739a1deb1c21"
      },
      "cell_type": "markdown",
      "source": "More ratings means more better chocolate. Most of the chocolates got 3.5 rating but very few chocolate got full ratings. Let's see them."
    },
    {
      "metadata": {
        "_cell_guid": "c46fb1aa-3107-42ae-92ab-2f56974c2899",
        "_uuid": "4547652f5c7fe00cd99e49fcb6e97f2b32363179",
        "trusted": false,
        "collapsed": true
      },
      "cell_type": "code",
      "source": "df[df['Rating'] == 5.0]",
      "execution_count": null,
      "outputs": []
    },
    {
      "metadata": {
        "_cell_guid": "97b92c0b-4e89-4094-b159-6326b3969669",
        "_uuid": "97b9885eb8a93f24cc9993c7dd9cd21a3cb40c8c"
      },
      "cell_type": "markdown",
      "source": "**Chuao** and **Toscano Black** from *Italy* got full ratings. "
    },
    {
      "metadata": {
        "_cell_guid": "4eaf785e-af5d-4e4e-b24e-3574562b416e",
        "collapsed": true,
        "_uuid": "363d5b7e8b31236b64c21dfa2aed6cf02cab920c",
        "trusted": false
      },
      "cell_type": "code",
      "source": "",
      "execution_count": null,
      "outputs": []
    }
  ],
  "metadata": {
    "kernelspec": {
      "display_name": "Python 3",
      "language": "python",
      "name": "python3"
    },
    "language_info": {
      "name": "python",
      "version": "3.6.4",
      "mimetype": "text/x-python",
      "codemirror_mode": {
        "name": "ipython",
        "version": 3
      },
      "pygments_lexer": "ipython3",
      "nbconvert_exporter": "python",
      "file_extension": ".py"
    }
  },
  "nbformat": 4,
  "nbformat_minor": 1
}