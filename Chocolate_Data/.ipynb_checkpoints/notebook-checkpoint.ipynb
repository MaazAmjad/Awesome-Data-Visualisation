{
 "cells": [
  {
   "cell_type": "code",
   "execution_count": 1,
   "metadata": {
    "_cell_guid": "35837b22-28b0-45fd-9371-92be5777710b",
    "_uuid": "3dd4860380bc4d66e6594ecc61c23584a3f5305e",
    "collapsed": true
   },
   "outputs": [],
   "source": [
    "# This Python 3 environment comes with many helpful analytics libraries installed\n",
    "# It is defined by the kaggle/python docker image: https://github.com/kaggle/docker-python\n",
    "# For example, here's several helpful packages to load in \n",
    "\n",
    "import numpy as np\n",
    "import os\n",
    "import pandas as pd\n",
    "import sys\n",
    "import matplotlib.pyplot as plt\n",
    "%matplotlib inline\n",
    "import seaborn as sns\n",
    "sns.set(color_codes=True)"
   ]
  },
  {
   "cell_type": "code",
   "execution_count": 2,
   "metadata": {
    "_cell_guid": "506e1e11-b091-4621-8192-1a7ba8714da2",
    "_uuid": "49700012eb28f9c1abd834e08b338ff9a5df07e0",
    "collapsed": true
   },
   "outputs": [],
   "source": [
    "df = pd.read_csv('flavors_of_cacao.csv')"
   ]
  },
  {
   "cell_type": "code",
   "execution_count": 3,
   "metadata": {
    "_cell_guid": "4a2f4eaa-16b7-444c-baed-58117d616565",
    "_uuid": "8b3a37378a501d54dc920b7f5ff3c689d87f3219",
    "collapsed": false
   },
   "outputs": [
    {
     "data": {
      "text/html": [
       "<div>\n",
       "<style scoped>\n",
       "    .dataframe tbody tr th:only-of-type {\n",
       "        vertical-align: middle;\n",
       "    }\n",
       "\n",
       "    .dataframe tbody tr th {\n",
       "        vertical-align: top;\n",
       "    }\n",
       "\n",
       "    .dataframe thead th {\n",
       "        text-align: right;\n",
       "    }\n",
       "</style>\n",
       "<table border=\"1\" class=\"dataframe\">\n",
       "  <thead>\n",
       "    <tr style=\"text-align: right;\">\n",
       "      <th></th>\n",
       "      <th>Company \n",
       "(Maker-if known)</th>\n",
       "      <th>Specific Bean Origin\n",
       "or Bar Name</th>\n",
       "      <th>REF</th>\n",
       "      <th>Review\n",
       "Date</th>\n",
       "      <th>Cocoa\n",
       "Percent</th>\n",
       "      <th>Company\n",
       "Location</th>\n",
       "      <th>Rating</th>\n",
       "      <th>Bean\n",
       "Type</th>\n",
       "      <th>Broad Bean\n",
       "Origin</th>\n",
       "    </tr>\n",
       "  </thead>\n",
       "  <tbody>\n",
       "    <tr>\n",
       "      <th>0</th>\n",
       "      <td>A. Morin</td>\n",
       "      <td>Agua Grande</td>\n",
       "      <td>1876</td>\n",
       "      <td>2016</td>\n",
       "      <td>63%</td>\n",
       "      <td>France</td>\n",
       "      <td>3.75</td>\n",
       "      <td></td>\n",
       "      <td>Sao Tome</td>\n",
       "    </tr>\n",
       "    <tr>\n",
       "      <th>1</th>\n",
       "      <td>A. Morin</td>\n",
       "      <td>Kpime</td>\n",
       "      <td>1676</td>\n",
       "      <td>2015</td>\n",
       "      <td>70%</td>\n",
       "      <td>France</td>\n",
       "      <td>2.75</td>\n",
       "      <td></td>\n",
       "      <td>Togo</td>\n",
       "    </tr>\n",
       "    <tr>\n",
       "      <th>2</th>\n",
       "      <td>A. Morin</td>\n",
       "      <td>Atsane</td>\n",
       "      <td>1676</td>\n",
       "      <td>2015</td>\n",
       "      <td>70%</td>\n",
       "      <td>France</td>\n",
       "      <td>3.00</td>\n",
       "      <td></td>\n",
       "      <td>Togo</td>\n",
       "    </tr>\n",
       "    <tr>\n",
       "      <th>3</th>\n",
       "      <td>A. Morin</td>\n",
       "      <td>Akata</td>\n",
       "      <td>1680</td>\n",
       "      <td>2015</td>\n",
       "      <td>70%</td>\n",
       "      <td>France</td>\n",
       "      <td>3.50</td>\n",
       "      <td></td>\n",
       "      <td>Togo</td>\n",
       "    </tr>\n",
       "    <tr>\n",
       "      <th>4</th>\n",
       "      <td>A. Morin</td>\n",
       "      <td>Quilla</td>\n",
       "      <td>1704</td>\n",
       "      <td>2015</td>\n",
       "      <td>70%</td>\n",
       "      <td>France</td>\n",
       "      <td>3.50</td>\n",
       "      <td></td>\n",
       "      <td>Peru</td>\n",
       "    </tr>\n",
       "  </tbody>\n",
       "</table>\n",
       "</div>"
      ],
      "text/plain": [
       "  Company \\n(Maker-if known) Specific Bean Origin\\nor Bar Name   REF  \\\n",
       "0                   A. Morin                       Agua Grande  1876   \n",
       "1                   A. Morin                             Kpime  1676   \n",
       "2                   A. Morin                            Atsane  1676   \n",
       "3                   A. Morin                             Akata  1680   \n",
       "4                   A. Morin                            Quilla  1704   \n",
       "\n",
       "   Review\\nDate Cocoa\\nPercent Company\\nLocation  Rating Bean\\nType  \\\n",
       "0          2016            63%            France    3.75              \n",
       "1          2015            70%            France    2.75              \n",
       "2          2015            70%            France    3.00              \n",
       "3          2015            70%            France    3.50              \n",
       "4          2015            70%            France    3.50              \n",
       "\n",
       "  Broad Bean\\nOrigin  \n",
       "0           Sao Tome  \n",
       "1               Togo  \n",
       "2               Togo  \n",
       "3               Togo  \n",
       "4               Peru  "
      ]
     },
     "execution_count": 3,
     "metadata": {},
     "output_type": "execute_result"
    }
   ],
   "source": [
    "df.head()"
   ]
  },
  {
   "cell_type": "code",
   "execution_count": 4,
   "metadata": {
    "_cell_guid": "de889297-0cb3-42c1-80cd-5e929810f4bf",
    "_uuid": "6f7b037d5525183807c4303b13a1f68bdba41f5d",
    "collapsed": false
   },
   "outputs": [
    {
     "data": {
      "text/plain": [
       "Company \\n(Maker-if known)           0\n",
       "Specific Bean Origin\\nor Bar Name    0\n",
       "REF                                  0\n",
       "Review\\nDate                         0\n",
       "Cocoa\\nPercent                       0\n",
       "Company\\nLocation                    0\n",
       "Rating                               0\n",
       "Bean\\nType                           1\n",
       "Broad Bean\\nOrigin                   1\n",
       "dtype: int64"
      ]
     },
     "execution_count": 4,
     "metadata": {},
     "output_type": "execute_result"
    }
   ],
   "source": [
    "df.isnull().sum(axis=0)"
   ]
  },
  {
   "cell_type": "code",
   "execution_count": 5,
   "metadata": {
    "_cell_guid": "55e1b1d7-b3d2-441b-b545-0b72dfc4e603",
    "_uuid": "651d16631b1368a31639082d063fc2db4ac50c45",
    "collapsed": false
   },
   "outputs": [
    {
     "data": {
      "text/plain": [
       "Company \\n(Maker-if known)            object\n",
       "Specific Bean Origin\\nor Bar Name     object\n",
       "REF                                    int64\n",
       "Review\\nDate                           int64\n",
       "Cocoa\\nPercent                        object\n",
       "Company\\nLocation                     object\n",
       "Rating                               float64\n",
       "Bean\\nType                            object\n",
       "Broad Bean\\nOrigin                    object\n",
       "dtype: object"
      ]
     },
     "execution_count": 5,
     "metadata": {},
     "output_type": "execute_result"
    }
   ],
   "source": [
    "df.dtypes"
   ]
  },
  {
   "cell_type": "markdown",
   "metadata": {
    "_cell_guid": "9ca8c865-a6b9-40b2-abf3-29bdc7a5e2fd",
    "_uuid": "fd295b5ecc5c47772fc7e1ba23c1eb6a42c3ca17"
   },
   "source": [
    "# Visualization"
   ]
  },
  {
   "cell_type": "code",
   "execution_count": 6,
   "metadata": {
    "_cell_guid": "3684e807-6952-438a-91eb-67ab1c23a515",
    "_uuid": "700946c464f80f2d86c9bfbc3a814c8c9fbdb76c",
    "collapsed": false
   },
   "outputs": [
    {
     "data": {
      "text/plain": [
       "<matplotlib.axes._subplots.AxesSubplot at 0x11427a4e0>"
      ]
     },
     "execution_count": 6,
     "metadata": {},
     "output_type": "execute_result"
    },
    {
     "data": {
      "image/png": "[encoded data removed]",
      "text/plain": [
       "<matplotlib.figure.Figure at 0x114203f98>"
      ]
     },
     "metadata": {},
     "output_type": "display_data"
    }
   ],
   "source": [
    "sns.distplot(df['REF'])"
   ]
  },
  {
   "cell_type": "code",
   "execution_count": 7,
   "metadata": {
    "_cell_guid": "2b5602fd-58be-4daf-8079-fc5b2a2ec0d0",
    "_uuid": "0a3dd5f6fde5028f12df1fb51f347d6b5d350dbe",
    "collapsed": false
   },
   "outputs": [
    {
     "data": {
      "text/plain": [
       "<matplotlib.axes._subplots.AxesSubplot at 0x114645748>"
      ]
     },
     "execution_count": 7,
     "metadata": {},
     "output_type": "execute_result"
    },
    {
     "data": {
      "image/png": "[encoded data removed]",
      "text/plain": [
       "<matplotlib.figure.Figure at 0x11459a470>"
      ]
     },
     "metadata": {},
     "output_type": "display_data"
    }
   ],
   "source": [
    "sns.distplot(df['Review\\nDate'])"
   ]
  },
  {
   "cell_type": "code",
   "execution_count": 8,
   "metadata": {
    "_cell_guid": "ef4a7267-f426-4956-b195-91b6f253505c",
    "_uuid": "82dec71447a44acc2749835ddb635855cf57fbf0",
    "collapsed": false
   },
   "outputs": [
    {
     "data": {
      "text/plain": [
       "<matplotlib.axes._subplots.AxesSubplot at 0x1179b55c0>"
      ]
     },
     "execution_count": 8,
     "metadata": {},
     "output_type": "execute_result"
    },
    {
     "data": {
      "image/png": "[encoded data removed]",
      "text/plain": [
       "<matplotlib.figure.Figure at 0x11462d470>"
      ]
     },
     "metadata": {},
     "output_type": "display_data"
    }
   ],
   "source": [
    "sns.distplot(df['Rating'])"
   ]
  },
  {
   "cell_type": "code",
   "execution_count": 9,
   "metadata": {
    "_cell_guid": "fc35512a-85d4-48d7-b62b-a3e67ab53732",
    "_uuid": "916ea0adf9379f8f1f919524d46fdc53c02d5f06",
    "collapsed": false
   },
   "outputs": [
    {
     "data": {
      "image/png": "[encoded data removed]",
      "text/plain": [
       "<matplotlib.figure.Figure at 0x11464bf28>"
      ]
     },
     "metadata": {},
     "output_type": "display_data"
    }
   ],
   "source": [
    "#scatter plot \n",
    "var = 'REF'\n",
    "data = pd.concat([df['Rating'], df[var]], axis=1)\n",
    "data.plot.scatter(x=var, y='Rating');"
   ]
  },
  {
   "cell_type": "code",
   "execution_count": 10,
   "metadata": {
    "_cell_guid": "12c8be6e-0fe5-41fd-bab8-04b07aa1b3f8",
    "_uuid": "3191190c4888fad5dd44389ed13b799ac94d3ac9",
    "collapsed": false
   },
   "outputs": [
    {
     "data": {
      "image/png": "[encoded data removed]",
      "text/plain": [
       "<matplotlib.figure.Figure at 0x117cf8358>"
      ]
     },
     "metadata": {},
     "output_type": "display_data"
    }
   ],
   "source": [
    "#scatter plot \n",
    "var = 'Review\\nDate'\n",
    "data = pd.concat([df['Rating'], df[var]], axis=1)\n",
    "data.plot.scatter(x=var, y='Rating');"
   ]
  },
  {
   "cell_type": "code",
   "execution_count": 11,
   "metadata": {
    "_cell_guid": "85acc8fc-7236-4db5-afe4-10d46c0df0bd",
    "_uuid": "4b210db6c0bc6d06d053411a8c4992d606eb92c2",
    "collapsed": false
   },
   "outputs": [
    {
     "data": {
      "text/plain": [
       "U.S.A.               764\n",
       "France               156\n",
       "Canada               125\n",
       "U.K.                  96\n",
       "Italy                 63\n",
       "Ecuador               54\n",
       "Australia             49\n",
       "Belgium               40\n",
       "Switzerland           38\n",
       "Germany               35\n",
       "Austria               26\n",
       "Spain                 25\n",
       "Colombia              23\n",
       "Hungary               22\n",
       "Venezuela             20\n",
       "New Zealand           17\n",
       "Brazil                17\n",
       "Japan                 17\n",
       "Madagascar            17\n",
       "Peru                  17\n",
       "Denmark               15\n",
       "Vietnam               11\n",
       "Scotland              10\n",
       "Guatemala             10\n",
       "Argentina              9\n",
       "Israel                 9\n",
       "Costa Rica             9\n",
       "Poland                 8\n",
       "Lithuania              6\n",
       "Honduras               6\n",
       "Domincan Republic      5\n",
       "Nicaragua              5\n",
       "Sweden                 5\n",
       "South Korea            5\n",
       "Puerto Rico            4\n",
       "Amsterdam              4\n",
       "Netherlands            4\n",
       "Sao Tome               4\n",
       "Ireland                4\n",
       "Fiji                   4\n",
       "Mexico                 4\n",
       "South Africa           3\n",
       "Portugal               3\n",
       "Singapore              3\n",
       "Grenada                3\n",
       "Iceland                3\n",
       "Chile                  2\n",
       "St. Lucia              2\n",
       "Bolivia                2\n",
       "Finland                2\n",
       "Philippines            1\n",
       "Russia                 1\n",
       "Suriname               1\n",
       "Wales                  1\n",
       "Martinique             1\n",
       "Czech Republic         1\n",
       "Niacragua              1\n",
       "India                  1\n",
       "Eucador                1\n",
       "Ghana                  1\n",
       "Name: Company\\nLocation, dtype: int64"
      ]
     },
     "execution_count": 11,
     "metadata": {},
     "output_type": "execute_result"
    }
   ],
   "source": [
    "df['Company\\nLocation'].value_counts()"
   ]
  },
  {
   "cell_type": "code",
   "execution_count": 12,
   "metadata": {
    "_cell_guid": "27c43973-1d24-4c99-8621-4f5d91df973b",
    "_uuid": "e3a09f5c2728d35972ccea22aec94bf603959bfb",
    "collapsed": false
   },
   "outputs": [
    {
     "data": {
      "text/plain": [
       "<matplotlib.axes._subplots.AxesSubplot at 0x117b9af98>"
      ]
     },
     "execution_count": 12,
     "metadata": {},
     "output_type": "execute_result"
    },
    {
     "data": {
      "image/png": "[encoded data removed]",
      "text/plain": [
       "<matplotlib.figure.Figure at 0x11797c208>"
      ]
     },
     "metadata": {},
     "output_type": "display_data"
    }
   ],
   "source": [
    "df['Company\\nLocation'].value_counts().head(10).plot.bar()"
   ]
  },
  {
   "cell_type": "markdown",
   "metadata": {
    "_cell_guid": "92aa3d20-69f0-4ed2-beda-73e8c955994f",
    "_uuid": "98ba82aa870fd364b28963116c2fd02e928cc12d"
   },
   "source": [
    "Seems like U.S.A. consumes chocolate far more than any other country of the world."
   ]
  },
  {
   "cell_type": "code",
   "execution_count": 13,
   "metadata": {
    "_cell_guid": "433d40bf-b1ff-42ce-a44b-7c8da0643ade",
    "_uuid": "37de4b9f9f4c7df77f26422520a0a68b72a8268c",
    "collapsed": false
   },
   "outputs": [
    {
     "data": {
      "text/plain": [
       "70%      672\n",
       "75%      222\n",
       "72%      189\n",
       "65%       78\n",
       "80%       72\n",
       "74%       50\n",
       "68%       47\n",
       "60%       43\n",
       "73%       40\n",
       "85%       36\n",
       "64%       34\n",
       "77%       33\n",
       "71%       31\n",
       "67%       27\n",
       "66%       23\n",
       "76%       23\n",
       "100%      20\n",
       "78%       17\n",
       "82%       17\n",
       "55%       16\n",
       "62%       14\n",
       "63%       12\n",
       "69%       10\n",
       "61%        8\n",
       "88%        8\n",
       "58%        8\n",
       "90%        8\n",
       "81%        5\n",
       "83%        4\n",
       "72.5%      4\n",
       "84%        4\n",
       "91%        3\n",
       "89%        2\n",
       "56%        2\n",
       "99%        2\n",
       "73.5%      2\n",
       "87%        1\n",
       "46%        1\n",
       "86%        1\n",
       "50%        1\n",
       "57%        1\n",
       "53%        1\n",
       "60.5%      1\n",
       "42%        1\n",
       "79%        1\n",
       "Name: Cocoa\\nPercent, dtype: int64"
      ]
     },
     "execution_count": 13,
     "metadata": {},
     "output_type": "execute_result"
    }
   ],
   "source": [
    "df['Cocoa\\nPercent'].value_counts()"
   ]
  },
  {
   "cell_type": "code",
   "execution_count": 14,
   "metadata": {
    "_cell_guid": "b2e0b99b-d43a-4068-8766-19c80f0e46da",
    "_uuid": "52f7e86c5eaa8d84a5cca04c244c4758f8b67c41",
    "collapsed": false
   },
   "outputs": [
    {
     "data": {
      "text/plain": [
       "<matplotlib.axes._subplots.AxesSubplot at 0x117fecb00>"
      ]
     },
     "execution_count": 14,
     "metadata": {},
     "output_type": "execute_result"
    },
    {
     "data": {
      "image/png": "[encoded data removed]",
      "text/plain": [
       "<matplotlib.figure.Figure at 0x117fb82e8>"
      ]
     },
     "metadata": {},
     "output_type": "display_data"
    }
   ],
   "source": [
    "df['Cocoa\\nPercent'].value_counts().head(10).plot.bar()"
   ]
  },
  {
   "cell_type": "markdown",
   "metadata": {
    "_cell_guid": "fd3ba764-bb0c-4448-a609-4e9363eff7c8",
    "_uuid": "89049fb73fad68b3b27d1d4fdb92c7ff70828d65"
   },
   "source": [
    "Most of the chocolates have 70% cocoa. Let's see which chocolate has highest cocoa."
   ]
  },
  {
   "cell_type": "code",
   "execution_count": 15,
   "metadata": {
    "_cell_guid": "c12890d9-d4d1-43a0-bc82-c84903234feb",
    "_uuid": "b1f4f708363e88f343940bb8e3d0175dcf98aae7",
    "collapsed": false
   },
   "outputs": [
    {
     "data": {
      "text/html": [
       "<div>\n",
       "<style scoped>\n",
       "    .dataframe tbody tr th:only-of-type {\n",
       "        vertical-align: middle;\n",
       "    }\n",
       "\n",
       "    .dataframe tbody tr th {\n",
       "        vertical-align: top;\n",
       "    }\n",
       "\n",
       "    .dataframe thead th {\n",
       "        text-align: right;\n",
       "    }\n",
       "</style>\n",
       "<table border=\"1\" class=\"dataframe\">\n",
       "  <thead>\n",
       "    <tr style=\"text-align: right;\">\n",
       "      <th></th>\n",
       "      <th>Company \n",
       "(Maker-if known)</th>\n",
       "      <th>Specific Bean Origin\n",
       "or Bar Name</th>\n",
       "      <th>REF</th>\n",
       "      <th>Review\n",
       "Date</th>\n",
       "      <th>Cocoa\n",
       "Percent</th>\n",
       "      <th>Company\n",
       "Location</th>\n",
       "      <th>Rating</th>\n",
       "      <th>Bean\n",
       "Type</th>\n",
       "      <th>Broad Bean\n",
       "Origin</th>\n",
       "    </tr>\n",
       "  </thead>\n",
       "  <tbody>\n",
       "    <tr>\n",
       "      <th>125</th>\n",
       "      <td>Artisan du Chocolat</td>\n",
       "      <td>Venezuela</td>\n",
       "      <td>486</td>\n",
       "      <td>2010</td>\n",
       "      <td>100%</td>\n",
       "      <td>U.K.</td>\n",
       "      <td>1.75</td>\n",
       "      <td></td>\n",
       "      <td>Venezuela</td>\n",
       "    </tr>\n",
       "    <tr>\n",
       "      <th>245</th>\n",
       "      <td>Bonnat</td>\n",
       "      <td>One Hundred</td>\n",
       "      <td>81</td>\n",
       "      <td>2006</td>\n",
       "      <td>100%</td>\n",
       "      <td>France</td>\n",
       "      <td>1.50</td>\n",
       "      <td></td>\n",
       "      <td></td>\n",
       "    </tr>\n",
       "    <tr>\n",
       "      <th>249</th>\n",
       "      <td>Bouga Cacao (Tulicorp)</td>\n",
       "      <td>El Oro, Hacienda de Oro</td>\n",
       "      <td>341</td>\n",
       "      <td>2009</td>\n",
       "      <td>100%</td>\n",
       "      <td>Ecuador</td>\n",
       "      <td>1.50</td>\n",
       "      <td>Forastero (Arriba)</td>\n",
       "      <td>Ecuador</td>\n",
       "    </tr>\n",
       "    <tr>\n",
       "      <th>330</th>\n",
       "      <td>C-Amaro</td>\n",
       "      <td>Ecuador</td>\n",
       "      <td>1185</td>\n",
       "      <td>2013</td>\n",
       "      <td>100%</td>\n",
       "      <td>Italy</td>\n",
       "      <td>3.50</td>\n",
       "      <td></td>\n",
       "      <td>Ecuador</td>\n",
       "    </tr>\n",
       "    <tr>\n",
       "      <th>437</th>\n",
       "      <td>Claudio Corallo</td>\n",
       "      <td>Principe</td>\n",
       "      <td>252</td>\n",
       "      <td>2008</td>\n",
       "      <td>100%</td>\n",
       "      <td>Sao Tome</td>\n",
       "      <td>1.00</td>\n",
       "      <td>Forastero</td>\n",
       "      <td>Sao Tome &amp; Principe</td>\n",
       "    </tr>\n",
       "    <tr>\n",
       "      <th>449</th>\n",
       "      <td>Coppeneur</td>\n",
       "      <td>Ecuador Puristique</td>\n",
       "      <td>817</td>\n",
       "      <td>2012</td>\n",
       "      <td>100%</td>\n",
       "      <td>Germany</td>\n",
       "      <td>1.50</td>\n",
       "      <td></td>\n",
       "      <td>Ecuador</td>\n",
       "    </tr>\n",
       "    <tr>\n",
       "      <th>557</th>\n",
       "      <td>Domori</td>\n",
       "      <td>IL100, H. San Jose</td>\n",
       "      <td>1109</td>\n",
       "      <td>2013</td>\n",
       "      <td>100%</td>\n",
       "      <td>Italy</td>\n",
       "      <td>3.00</td>\n",
       "      <td>Criollo</td>\n",
       "      <td>Venezuela</td>\n",
       "    </tr>\n",
       "    <tr>\n",
       "      <th>779</th>\n",
       "      <td>Habitual</td>\n",
       "      <td>one hundred</td>\n",
       "      <td>1205</td>\n",
       "      <td>2014</td>\n",
       "      <td>100%</td>\n",
       "      <td>Canada</td>\n",
       "      <td>2.00</td>\n",
       "      <td></td>\n",
       "      <td></td>\n",
       "    </tr>\n",
       "    <tr>\n",
       "      <th>828</th>\n",
       "      <td>Hotel Chocolat</td>\n",
       "      <td>Island Growers, 2012, 120hr c.</td>\n",
       "      <td>1113</td>\n",
       "      <td>2013</td>\n",
       "      <td>100%</td>\n",
       "      <td>U.K.</td>\n",
       "      <td>1.75</td>\n",
       "      <td>Trinitario</td>\n",
       "      <td>St. Lucia</td>\n",
       "    </tr>\n",
       "    <tr>\n",
       "      <th>834</th>\n",
       "      <td>Hotel Chocolat (Coppeneur)</td>\n",
       "      <td>Chanchamayo, Pichanadi, 2012, 60hr c.</td>\n",
       "      <td>1109</td>\n",
       "      <td>2013</td>\n",
       "      <td>100%</td>\n",
       "      <td>U.K.</td>\n",
       "      <td>2.75</td>\n",
       "      <td></td>\n",
       "      <td>Peru</td>\n",
       "    </tr>\n",
       "    <tr>\n",
       "      <th>835</th>\n",
       "      <td>Hotel Chocolat (Coppeneur)</td>\n",
       "      <td>Los Rios, H. Iara, 2012, 120hr c.</td>\n",
       "      <td>1113</td>\n",
       "      <td>2013</td>\n",
       "      <td>100%</td>\n",
       "      <td>U.K.</td>\n",
       "      <td>2.50</td>\n",
       "      <td>Forastero (Nacional)</td>\n",
       "      <td>Ecuador</td>\n",
       "    </tr>\n",
       "    <tr>\n",
       "      <th>836</th>\n",
       "      <td>Hotel Chocolat (Coppeneur)</td>\n",
       "      <td>Conacado, 2012, 120hr c.</td>\n",
       "      <td>1113</td>\n",
       "      <td>2013</td>\n",
       "      <td>100%</td>\n",
       "      <td>U.K.</td>\n",
       "      <td>2.75</td>\n",
       "      <td></td>\n",
       "      <td>Dominican Republic</td>\n",
       "    </tr>\n",
       "    <tr>\n",
       "      <th>1204</th>\n",
       "      <td>Ocho</td>\n",
       "      <td>Sang Yum Coop</td>\n",
       "      <td>1760</td>\n",
       "      <td>2016</td>\n",
       "      <td>100%</td>\n",
       "      <td>New Zealand</td>\n",
       "      <td>2.75</td>\n",
       "      <td></td>\n",
       "      <td>Samoa</td>\n",
       "    </tr>\n",
       "    <tr>\n",
       "      <th>1251</th>\n",
       "      <td>Pacari</td>\n",
       "      <td>Raw</td>\n",
       "      <td>266</td>\n",
       "      <td>2008</td>\n",
       "      <td>100%</td>\n",
       "      <td>Ecuador</td>\n",
       "      <td>2.00</td>\n",
       "      <td>Forastero (Arriba)</td>\n",
       "      <td>Ecuador</td>\n",
       "    </tr>\n",
       "    <tr>\n",
       "      <th>1319</th>\n",
       "      <td>Pralus</td>\n",
       "      <td>Sambirano Valley, Le 100%</td>\n",
       "      <td>202</td>\n",
       "      <td>2008</td>\n",
       "      <td>100%</td>\n",
       "      <td>France</td>\n",
       "      <td>3.00</td>\n",
       "      <td>Criollo</td>\n",
       "      <td>Madagascar</td>\n",
       "    </tr>\n",
       "    <tr>\n",
       "      <th>1411</th>\n",
       "      <td>S.A.I.D.</td>\n",
       "      <td>100 percent</td>\n",
       "      <td>615</td>\n",
       "      <td>2010</td>\n",
       "      <td>100%</td>\n",
       "      <td>Italy</td>\n",
       "      <td>1.50</td>\n",
       "      <td></td>\n",
       "      <td></td>\n",
       "    </tr>\n",
       "    <tr>\n",
       "      <th>1466</th>\n",
       "      <td>Sirene</td>\n",
       "      <td>Somia Plantation, 2012</td>\n",
       "      <td>1502</td>\n",
       "      <td>2015</td>\n",
       "      <td>100%</td>\n",
       "      <td>Canada</td>\n",
       "      <td>3.00</td>\n",
       "      <td>Trinitario</td>\n",
       "      <td>Madagascar</td>\n",
       "    </tr>\n",
       "    <tr>\n",
       "      <th>1467</th>\n",
       "      <td>Sirene</td>\n",
       "      <td>Camino Verde P., Balao, Guayas, 2012</td>\n",
       "      <td>1506</td>\n",
       "      <td>2015</td>\n",
       "      <td>100%</td>\n",
       "      <td>Canada</td>\n",
       "      <td>3.00</td>\n",
       "      <td></td>\n",
       "      <td>Ecuador</td>\n",
       "    </tr>\n",
       "    <tr>\n",
       "      <th>1720</th>\n",
       "      <td>Vintage Plantations (Tulicorp)</td>\n",
       "      <td>Los Rios, Rancho Grande 2004/2007</td>\n",
       "      <td>153</td>\n",
       "      <td>2007</td>\n",
       "      <td>100%</td>\n",
       "      <td>U.S.A.</td>\n",
       "      <td>2.00</td>\n",
       "      <td>Forastero (Arriba)</td>\n",
       "      <td>Ecuador</td>\n",
       "    </tr>\n",
       "    <tr>\n",
       "      <th>1741</th>\n",
       "      <td>Willie's Cacao</td>\n",
       "      <td>Java, Indonesian Black</td>\n",
       "      <td>1109</td>\n",
       "      <td>2013</td>\n",
       "      <td>100%</td>\n",
       "      <td>U.K.</td>\n",
       "      <td>2.25</td>\n",
       "      <td></td>\n",
       "      <td>Indonesia</td>\n",
       "    </tr>\n",
       "  </tbody>\n",
       "</table>\n",
       "</div>"
      ],
      "text/plain": [
       "          Company \\n(Maker-if known)      Specific Bean Origin\\nor Bar Name  \\\n",
       "125              Artisan du Chocolat                              Venezuela   \n",
       "245                           Bonnat                            One Hundred   \n",
       "249           Bouga Cacao (Tulicorp)                El Oro, Hacienda de Oro   \n",
       "330                          C-Amaro                                Ecuador   \n",
       "437                  Claudio Corallo                               Principe   \n",
       "449                        Coppeneur                     Ecuador Puristique   \n",
       "557                           Domori                     IL100, H. San Jose   \n",
       "779                         Habitual                            one hundred   \n",
       "828                   Hotel Chocolat         Island Growers, 2012, 120hr c.   \n",
       "834       Hotel Chocolat (Coppeneur)  Chanchamayo, Pichanadi, 2012, 60hr c.   \n",
       "835       Hotel Chocolat (Coppeneur)      Los Rios, H. Iara, 2012, 120hr c.   \n",
       "836       Hotel Chocolat (Coppeneur)               Conacado, 2012, 120hr c.   \n",
       "1204                            Ocho                          Sang Yum Coop   \n",
       "1251                          Pacari                                    Raw   \n",
       "1319                          Pralus              Sambirano Valley, Le 100%   \n",
       "1411                        S.A.I.D.                            100 percent   \n",
       "1466                          Sirene                 Somia Plantation, 2012   \n",
       "1467                          Sirene   Camino Verde P., Balao, Guayas, 2012   \n",
       "1720  Vintage Plantations (Tulicorp)      Los Rios, Rancho Grande 2004/2007   \n",
       "1741                  Willie's Cacao                 Java, Indonesian Black   \n",
       "\n",
       "       REF  Review\\nDate Cocoa\\nPercent Company\\nLocation  Rating  \\\n",
       "125    486          2010           100%              U.K.    1.75   \n",
       "245     81          2006           100%            France    1.50   \n",
       "249    341          2009           100%           Ecuador    1.50   \n",
       "330   1185          2013           100%             Italy    3.50   \n",
       "437    252          2008           100%          Sao Tome    1.00   \n",
       "449    817          2012           100%           Germany    1.50   \n",
       "557   1109          2013           100%             Italy    3.00   \n",
       "779   1205          2014           100%            Canada    2.00   \n",
       "828   1113          2013           100%              U.K.    1.75   \n",
       "834   1109          2013           100%              U.K.    2.75   \n",
       "835   1113          2013           100%              U.K.    2.50   \n",
       "836   1113          2013           100%              U.K.    2.75   \n",
       "1204  1760          2016           100%       New Zealand    2.75   \n",
       "1251   266          2008           100%           Ecuador    2.00   \n",
       "1319   202          2008           100%            France    3.00   \n",
       "1411   615          2010           100%             Italy    1.50   \n",
       "1466  1502          2015           100%            Canada    3.00   \n",
       "1467  1506          2015           100%            Canada    3.00   \n",
       "1720   153          2007           100%            U.S.A.    2.00   \n",
       "1741  1109          2013           100%              U.K.    2.25   \n",
       "\n",
       "                Bean\\nType   Broad Bean\\nOrigin  \n",
       "125                                   Venezuela  \n",
       "245                                              \n",
       "249     Forastero (Arriba)              Ecuador  \n",
       "330                                     Ecuador  \n",
       "437              Forastero  Sao Tome & Principe  \n",
       "449                                     Ecuador  \n",
       "557                Criollo            Venezuela  \n",
       "779                                              \n",
       "828             Trinitario            St. Lucia  \n",
       "834                                        Peru  \n",
       "835   Forastero (Nacional)              Ecuador  \n",
       "836                          Dominican Republic  \n",
       "1204                                      Samoa  \n",
       "1251    Forastero (Arriba)              Ecuador  \n",
       "1319               Criollo           Madagascar  \n",
       "1411                                             \n",
       "1466            Trinitario           Madagascar  \n",
       "1467                                    Ecuador  \n",
       "1720    Forastero (Arriba)              Ecuador  \n",
       "1741                                  Indonesia  "
      ]
     },
     "execution_count": 15,
     "metadata": {},
     "output_type": "execute_result"
    }
   ],
   "source": [
    "df[df['Cocoa\\nPercent'] == '100%']"
   ]
  },
  {
   "cell_type": "code",
   "execution_count": 16,
   "metadata": {
    "_cell_guid": "32d82223-5c25-48cd-aa42-e458aa8e9248",
    "_uuid": "a1ee93274818fba84ea0e8aa4abe60ae1a882eb3",
    "collapsed": false
   },
   "outputs": [
    {
     "data": {
      "text/plain": [
       "<matplotlib.axes._subplots.AxesSubplot at 0x117fa54e0>"
      ]
     },
     "execution_count": 16,
     "metadata": {},
     "output_type": "execute_result"
    },
    {
     "data": {
      "image/png": "[encoded data removed]",
      "text/plain": [
       "<matplotlib.figure.Figure at 0x1145e2908>"
      ]
     },
     "metadata": {},
     "output_type": "display_data"
    }
   ],
   "source": [
    "df['Rating'].value_counts().sort_index().plot.bar()"
   ]
  },
  {
   "cell_type": "markdown",
   "metadata": {
    "_cell_guid": "a6103a48-aa1c-4fa9-bcbd-903727b611a0",
    "_uuid": "214996c1d98c29ea4119800d2ef7739a1deb1c21"
   },
   "source": [
    "More ratings means more better chocolate. Most of the chocolates got 3.5 rating but very few chocolate got full ratings. Let's see them."
   ]
  },
  {
   "cell_type": "code",
   "execution_count": 17,
   "metadata": {
    "_cell_guid": "c46fb1aa-3107-42ae-92ab-2f56974c2899",
    "_uuid": "4547652f5c7fe00cd99e49fcb6e97f2b32363179",
    "collapsed": false
   },
   "outputs": [
    {
     "data": {
      "text/html": [
       "<div>\n",
       "<style scoped>\n",
       "    .dataframe tbody tr th:only-of-type {\n",
       "        vertical-align: middle;\n",
       "    }\n",
       "\n",
       "    .dataframe tbody tr th {\n",
       "        vertical-align: top;\n",
       "    }\n",
       "\n",
       "    .dataframe thead th {\n",
       "        text-align: right;\n",
       "    }\n",
       "</style>\n",
       "<table border=\"1\" class=\"dataframe\">\n",
       "  <thead>\n",
       "    <tr style=\"text-align: right;\">\n",
       "      <th></th>\n",
       "      <th>Company \n",
       "(Maker-if known)</th>\n",
       "      <th>Specific Bean Origin\n",
       "or Bar Name</th>\n",
       "      <th>REF</th>\n",
       "      <th>Review\n",
       "Date</th>\n",
       "      <th>Cocoa\n",
       "Percent</th>\n",
       "      <th>Company\n",
       "Location</th>\n",
       "      <th>Rating</th>\n",
       "      <th>Bean\n",
       "Type</th>\n",
       "      <th>Broad Bean\n",
       "Origin</th>\n",
       "    </tr>\n",
       "  </thead>\n",
       "  <tbody>\n",
       "    <tr>\n",
       "      <th>78</th>\n",
       "      <td>Amedei</td>\n",
       "      <td>Chuao</td>\n",
       "      <td>111</td>\n",
       "      <td>2007</td>\n",
       "      <td>70%</td>\n",
       "      <td>Italy</td>\n",
       "      <td>5.0</td>\n",
       "      <td>Trinitario</td>\n",
       "      <td>Venezuela</td>\n",
       "    </tr>\n",
       "    <tr>\n",
       "      <th>86</th>\n",
       "      <td>Amedei</td>\n",
       "      <td>Toscano Black</td>\n",
       "      <td>40</td>\n",
       "      <td>2006</td>\n",
       "      <td>70%</td>\n",
       "      <td>Italy</td>\n",
       "      <td>5.0</td>\n",
       "      <td>Blend</td>\n",
       "      <td></td>\n",
       "    </tr>\n",
       "  </tbody>\n",
       "</table>\n",
       "</div>"
      ],
      "text/plain": [
       "   Company \\n(Maker-if known) Specific Bean Origin\\nor Bar Name  REF  \\\n",
       "78                     Amedei                             Chuao  111   \n",
       "86                     Amedei                     Toscano Black   40   \n",
       "\n",
       "    Review\\nDate Cocoa\\nPercent Company\\nLocation  Rating  Bean\\nType  \\\n",
       "78          2007            70%             Italy     5.0  Trinitario   \n",
       "86          2006            70%             Italy     5.0       Blend   \n",
       "\n",
       "   Broad Bean\\nOrigin  \n",
       "78          Venezuela  \n",
       "86                     "
      ]
     },
     "execution_count": 17,
     "metadata": {},
     "output_type": "execute_result"
    }
   ],
   "source": [
    "df[df['Rating'] == 5.0]"
   ]
  },
  {
   "cell_type": "markdown",
   "metadata": {
    "_cell_guid": "97b92c0b-4e89-4094-b159-6326b3969669",
    "_uuid": "97b9885eb8a93f24cc9993c7dd9cd21a3cb40c8c"
   },
   "source": [
    "**Chuao** and **Toscano Black** from *Italy* got full ratings. "
   ]
  },
  {
   "cell_type": "code",
   "execution_count": null,
   "metadata": {
    "_cell_guid": "4eaf785e-af5d-4e4e-b24e-3574562b416e",
    "_uuid": "363d5b7e8b31236b64c21dfa2aed6cf02cab920c",
    "collapsed": true
   },
   "outputs": [],
   "source": []
  }
 ],
 "metadata": {
  "kernelspec": {
   "display_name": "Python 3",
   "language": "python",
   "name": "python3"
  },
  "language_info": {
   "codemirror_mode": {
    "name": "ipython",
    "version": 3
   },
   "file_extension": ".py",
   "mimetype": "text/x-python",
   "name": "python",
   "nbconvert_exporter": "python",
   "pygments_lexer": "ipython3",
   "version": "3.6.0"
  }
 },
 "nbformat": 4,
 "nbformat_minor": 1
}
